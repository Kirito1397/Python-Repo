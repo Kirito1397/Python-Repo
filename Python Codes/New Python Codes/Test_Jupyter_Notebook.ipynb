{
    "cells": [
        {
            "cell_type": "code",
            "execution_count": 80,
            "metadata": {},
            "outputs": [
                {
                    "name": "stdout",
                    "output_type": "stream",
                    "text": [
                        "True\n"
                    ]
                }
            ],
            "source": [
                "print(not ((5+1) % 3))"
            ]
        },
        {
            "cell_type": "code",
            "execution_count": 56,
            "metadata": {},
            "outputs": [
                {
                    "name": "stdout",
                    "output_type": "stream",
                    "text": [
                        "(4, 6, 8)\n"
                    ]
                }
            ],
            "source": [
                "def miles_to_run(minimum_miles):\n",
                "   week_1 = minimum_miles + 2\n",
                "   week_2 = minimum_miles + 4\n",
                "   week_3 = minimum_miles + 6\n",
                "   return (week_1, week_2, week_3)\n",
                " \n",
                "print(miles_to_run(2))\n",
                "x,y,z = miles_to_run(2)"
            ]
        },
        {
            "cell_type": "code",
            "execution_count": 17,
            "metadata": {},
            "outputs": [
                {
                    "name": "stdout",
                    "output_type": "stream",
                    "text": [
                        "9.433981132056603\n",
                        "1.6\n",
                        "3.1622776601683795\n",
                        "3.0\n"
                    ]
                }
            ],
            "source": [
                "class Line(object):\n",
                "    \n",
                "    def __init__(self,c1,c2):\n",
                "        self.coor1 = c1\n",
                "        self.coor2 = c2\n",
                "    \n",
                "    def distance(self):\n",
                "        return (((self.coor2[1]-self.coor1[1])**2)+((self.coor2[0]-self.coor1[0])**2))**0.5\n",
                "    \n",
                "    def slope(self):\n",
                "        return (self.coor2[1]-self.coor1[1])/(self.coor2[0]-self.coor1[0])\n",
                "coordinate1 = (3,2)\n",
                "coordinate2 = (8,10)\n",
                "\n",
                "li = Line(coordinate1,coordinate2)\n",
                "y = li.distance()\n",
                "print(y)\n",
                "s= li.slope()\n",
                "print(s)\n",
                "\n",
                "line2 = Line((4,7),(5,10))\n",
                "y = line2.distance()\n",
                "print(y)\n",
                "s= line2.slope()\n",
                "print(s)\n"
            ]
        },
        {
            "cell_type": "markdown",
            "metadata": {},
            "source": [
                "**Bank Account using OOPs**"
            ]
        },
        {
            "cell_type": "code",
            "execution_count": 66,
            "metadata": {},
            "outputs": [],
            "source": [
                "class Account():\n",
                "    def __init__(self,owner,balance):\n",
                "        self.owner = owner\n",
                "        self.balance = balance\n",
                "\n",
                "    def deposit(self,add_amount):\n",
                "        self.balance = self.balance + add_amount\n",
                "        print(\"{0} has been deposited and total balance is {1}\".format(add_amount,self.balance))\n",
                "\n",
                "    def withdraw(self,deduct_amount):\n",
                "        self.balance = self.balance - deduct_amount\n",
                "        if self.balance <= 0:\n",
                "            self.balance = 0\n",
                "            print(\"Funds Unvailable!\")\n",
                "        else:\n",
                "            print(\"{0} has been deducted and total balance is {1}\".format(deduct_amount,self.balance))\n",
                "\n",
                "    def __str__(self):\n",
                "         return f\"Account Owner {self.owner}\""
            ]
        },
        {
            "cell_type": "code",
            "execution_count": 1,
            "metadata": {},
            "outputs": [
                {
                    "ename": "NameError",
                    "evalue": "name 'Account' is not defined",
                    "output_type": "error",
                    "traceback": [
                        "\u001b[1;31m---------------------------------------------------------------------------\u001b[0m",
                        "\u001b[1;31mNameError\u001b[0m                                 Traceback (most recent call last)",
                        "\u001b[1;32m~\\AppData\\Local\\Temp/ipykernel_9360/3469026321.py\u001b[0m in \u001b[0;36m<module>\u001b[1;34m\u001b[0m\n\u001b[1;32m----> 1\u001b[1;33m \u001b[0macc1\u001b[0m \u001b[1;33m=\u001b[0m \u001b[0mAccount\u001b[0m\u001b[1;33m(\u001b[0m\u001b[1;34m\"John\"\u001b[0m\u001b[1;33m,\u001b[0m\u001b[1;36m100\u001b[0m\u001b[1;33m)\u001b[0m\u001b[1;33m\u001b[0m\u001b[1;33m\u001b[0m\u001b[0m\n\u001b[0m",
                        "\u001b[1;31mNameError\u001b[0m: name 'Account' is not defined"
                    ]
                }
            ],
            "source": [
                "acc1 = Account(\"John\",100)"
            ]
        },
        {
            "cell_type": "code",
            "execution_count": null,
            "metadata": {},
            "outputs": [],
            "source": [
                "print(acc1)"
            ]
        },
        {
            "cell_type": "code",
            "execution_count": 2,
            "metadata": {},
            "outputs": [
                {
                    "name": "stdout",
                    "output_type": "stream",
                    "text": [
                        "11 56 4 68 6\n"
                    ]
                }
            ],
            "source": [
                "a = [11,56,4,68,6]\n",
                "print(*a)"
            ]
        },
        {
            "cell_type": "code",
            "execution_count": null,
            "metadata": {},
            "outputs": [],
            "source": [
                "for i in range(10):\n",
                "    print(i)"
            ]
        },
        {
            "cell_type": "code",
            "execution_count": 15,
            "metadata": {},
            "outputs": [
                {
                    "name": "stdout",
                    "output_type": "stream",
                    "text": [
                        "[1, 2, 3, 4, 5]\n"
                    ]
                }
            ],
            "source": [
                "class Solution:\n",
                "\tdef getCumulativeSum(arr):\n",
                "\t\t# add your logic here\t\t\n",
                "\t\tfor i in range(len(arr)):\n",
                "\t\t\tif (i+1) < len(arr):\n",
                "\t\t\t\tarr[i+1]= arr[i+1] + arr[i]\n",
                "\t\t\telif (i+1) > len(arr):\n",
                "\t\t\t\tbreak\n",
                "list1 = [1, 1, 1, 1, 1]\n",
                "sample = Solution.getCumulativeSum(list1)\n",
                "print(list1)\n",
                "\n"
            ]
        },
        {
            "cell_type": "code",
            "execution_count": 32,
            "metadata": {},
            "outputs": [
                {
                    "name": "stdout",
                    "output_type": "stream",
                    "text": [
                        "[0, 3]\n"
                    ]
                }
            ],
            "source": [
                "class Solution:\n",
                "    def twoSum(nums,target): \n",
                "        result = []\n",
                "        for i in range(len(nums)):\n",
                "            if len(result) == 0:\n",
                "                for j in range(i+1,len(nums)):\n",
                "                    if (nums[i] + nums[j]) == target:\n",
                "                        result.append(i)\n",
                "                        result.append(j)\n",
                "                        break\n",
                "        return result\n",
                "        \n",
                "ls = [0,4,3,0]\n",
                "sam = Solution.twoSum(ls,0)\n",
                "print(sam)\n"
            ]
        },
        {
            "cell_type": "code",
            "execution_count": 1,
            "metadata": {},
            "outputs": [
                {
                    "name": "stdout",
                    "output_type": "stream",
                    "text": [
                        "4\n"
                    ]
                }
            ],
            "source": [
                "# Python3 program to find the XOR of\n",
                "# all elements in the array\n",
                "\n",
                "# Function to find the XOR of\n",
                "# all elements in the array\n",
                "def xorOfArray(arr, n):\n",
                "\n",
                "\t# Resultant variable\n",
                "\txor_arr = 0\n",
                "\n",
                "\t# Iterating through every element in\n",
                "\t# the array\n",
                "\tfor i in range(n):\n",
                "\n",
                "\t\t# Find XOR with the result\n",
                "\t\txor_arr = xor_arr ^ arr[i]\n",
                "\n",
                "\t# Return the XOR\n",
                "\treturn xor_arr\n",
                "\n",
                "# Driver Code\n",
                "if __name__ == '__main__':\n",
                "\tarr = [3, 9, 12, 13, 15]\n",
                "\tn = len(arr)\n",
                "\n",
                "\t# Function call\n",
                "\tprint(xorOfArray(arr, n))\n",
                "\n",
                "# This code is contributed by mohit kumar 29\n"
            ]
        },
        {
            "cell_type": "code",
            "execution_count": 8,
            "metadata": {},
            "outputs": [
                {
                    "name": "stdout",
                    "output_type": "stream",
                    "text": [
                        "6\n",
                        "1 2 3 4 5 6\n"
                    ]
                }
            ],
            "source": [
                "d = list(range(1,7))\n",
                "xor= 0\n",
                "for i in d:\n",
                "    xor = xor^i\n",
                "\n",
                "print(max(d))\n",
                "print(*d)\n",
                "\n"
            ]
        },
        {
            "cell_type": "code",
            "execution_count": 1,
            "metadata": {},
            "outputs": [
                {
                    "name": "stdout",
                    "output_type": "stream",
                    "text": [
                        "1\n",
                        "3\n",
                        "5\n",
                        "7\n",
                        "9\n"
                    ]
                }
            ],
            "source": [
                "for i in range(1,10,2):\n",
                "    print(i)"
            ]
        }
    ],
    "metadata": {
        "interpreter": {
            "hash": "59d476166bb142ea4a8363be208b8c5c4e65e2eba7ac88df479198e31238325f"
        },
        "kernelspec": {
            "display_name": "Python 3.10.0 64-bit",
            "name": "python3"
        },
        "language_info": {
            "codemirror_mode": {
                "name": "ipython",
                "version": 3
            },
            "file_extension": ".py",
            "mimetype": "text/x-python",
            "name": "python",
            "nbconvert_exporter": "python",
            "pygments_lexer": "ipython3",
            "version": "3.10.0"
        },
        "orig_nbformat": 4
    },
    "nbformat": 4,
    "nbformat_minor": 2
}
